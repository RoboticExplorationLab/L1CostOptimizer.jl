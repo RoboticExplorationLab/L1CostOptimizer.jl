{
 "cells": [
  {
   "cell_type": "markdown",
   "metadata": {},
   "source": [
    "# L1 Cost Optimizer: Trajectory Visualization.\n",
    "#### In this notebook we reproduce visualize some of the results presented in \"FAST SOLUTION OF OPTIMAL CONTROL PROBLEMS WITH L1 COST\". "
   ]
  },
  {
   "cell_type": "markdown",
   "metadata": {},
   "source": [
    "Library imports."
   ]
  },
  {
   "cell_type": "code",
   "execution_count": 22,
   "metadata": {},
   "outputs": [],
   "source": [
    "using Colors: RGBA, RGB\n",
    "using CoordinateTransformations\n",
    "using FileIO\n",
    "using GeometryTypes:\n",
    "    GeometryTypes, HyperRectangle, Vec, Point,\n",
    "    HomogenousMesh, SignedDistanceField, HyperSphere, GLUVMesh, Pyramid\n",
    "using JLD\n",
    "using LinearAlgebra\n",
    "using MeshCat\n",
    "using MeshIO"
   ]
  },
  {
   "cell_type": "markdown",
   "metadata": {},
   "source": [
    "## Define the parameters necessary for the visualization."
   ]
  },
  {
   "cell_type": "code",
   "execution_count": 23,
   "metadata": {},
   "outputs": [],
   "source": [
    "function define_animation_parameters()\n",
    "    # Defines the necessary parameters for animating a trajectory.\n",
    "    filename = \"constrained_nonlinear_dynamics\"\n",
    "    parameters = Dict(\"filename\" => filename, # filename of the trajectory file.\n",
    "                  \"length_scale\" => 1e-6, # scaling of the lengths of the problem.\n",
    "                  \"delta_scale\" => 1e2, # scaling of the delta between the 2 satellites.\n",
    "                  \"cubesat_dim_x\" => 3e-1, # length of the cubesat along X.\n",
    "                  \"cubesat_dim_y\" => 1e-1, # length of the cubesat along Y.\n",
    "                  \"cubesat_dim_z\" => 1e-1, # length of the cubesat along Z.\n",
    "                  \"pyramid_point\" => Point(0.0, 0.0, 0.0), # Center of the pyramid indicating controls.\n",
    "                  \"pyramid_length\" => 75.0, # Length of the pyramid indicating controls.\n",
    "                  \"pyramid_width\" => 4e-2, # Width of the pyramid indicating controls.\n",
    "                  \"pyramid_rot_x\" => LinearMap(AngleAxis(pi/2, 0.0, 1.0, 0.0)), # Rotation of the pyramid to indicate forces along X.\n",
    "                  \"pyramid_rot_y\" => LinearMap(AngleAxis(-pi/2, 1.0, 0.0, 0.0)), # Rotation of the pyramid to indicate forces along Y.\n",
    "                  \"pyramid_rot_z\" => LinearMap(AngleAxis(0.0, 1.0, 0.0, 0.0)), # Rotation of the pyramid to indicate forces along Z.\n",
    "                  \"sphere_radius\" => 3e-2, # Radius of the sphere indicating ego node points.\n",
    "                  \"camera_translation\" => Translation(-1.0, 1.0, 1.0), # translation of the camera wrt the target satellite.\n",
    "                  \"camera_rotation\" => compose(LinearMap(AngleAxis(0.1*pi, 1.0, 0.0, 1.0)), LinearMap(AngleAxis(0.6*pi, 0.0, 0.0, 1.0))), # rotation of the camera wrt the target satellite.\n",
    "                  \"camera_zoom\" => 2.8, # zoom of the camera.\n",
    "                  )\n",
    "    return parameters\n",
    "end\n",
    "parameters = define_animation_parameters();"
   ]
  },
  {
   "cell_type": "markdown",
   "metadata": {},
   "source": [
    "## Define a function to compute the rotations and translations of the spacecrafts."
   ]
  },
  {
   "cell_type": "code",
   "execution_count": 24,
   "metadata": {},
   "outputs": [],
   "source": [
    "function spacecraft_transformation(x, parameters)\n",
    "    # Compute the rotations and translations of the spacecrafts.\n",
    "    length_scale = parameters[\"length_scale\"]\n",
    "    delta_scale = parameters[\"delta_scale\"]\n",
    "    r_target = x[4:6]\n",
    "    rd_target = x[10:12]\n",
    "    r_ego = r_target - delta_scale*x[1:3]\n",
    "    target_translation = r_target*length_scale\n",
    "    ego_translation = r_ego*length_scale\n",
    "\n",
    "    # define the axis of the C-W frame as deined in\n",
    "    # R. Wiltshire and W. Clohessy,\n",
    "    # “Terminal guidance system for satellite rendezvous”.\n",
    "    ey_cw = r_target / norm(r_target)\n",
    "    ez_cw = cross(ey_cw, rd_target)\n",
    "    ez_cw = ez_cw / norm(ez_cw)\n",
    "    ex_cw = cross(ey_cw, ez_cw)\n",
    "    R_wc = [ex_cw ey_cw ez_cw]\n",
    "    target_rotation = LinearMap(RotMatrix(R_wc...))\n",
    "    target_translation = Translation(target_translation...)\n",
    "    ego_translation = Translation(ego_translation...)\n",
    "    return target_translation, target_rotation, ego_translation\n",
    "end;"
   ]
  },
  {
   "cell_type": "markdown",
   "metadata": {},
   "source": [
    "## Load the state, control trajectories which have been computed using the optimizer."
   ]
  },
  {
   "cell_type": "code",
   "execution_count": 25,
   "metadata": {},
   "outputs": [
    {
     "data": {
      "text/plain": [
       "load_data (generic function with 1 method)"
      ]
     },
     "execution_count": 25,
     "metadata": {},
     "output_type": "execute_result"
    }
   ],
   "source": [
    "function load_data(parameters)\n",
    "    # Load data\n",
    "    filename = parameters[\"filename\"]\n",
    "    T = load(\"../animation/trajectory/\" * filename * \".jld\", \"T\")\n",
    "    X = load(\"../animation/trajectory/\" * filename * \".jld\", \"X\")\n",
    "    Y = load(\"../animation/trajectory/\" * filename * \".jld\", \"Y\")\n",
    "    U = load(\"../animation/trajectory/\" * filename * \".jld\", \"U\")\n",
    "    N = length(T)\n",
    "    n = size(X)[1]\n",
    "    m = size(U)[1]\n",
    "    return T, X, Y, U, N, n, m\n",
    "end"
   ]
  },
  {
   "cell_type": "markdown",
   "metadata": {},
   "source": [
    "## Core function allowing the visualization in Meshcat."
   ]
  },
  {
   "cell_type": "code",
   "execution_count": 38,
   "metadata": {},
   "outputs": [
    {
     "data": {
      "text/plain": [
       "visualizer (generic function with 1 method)"
      ]
     },
     "execution_count": 38,
     "metadata": {},
     "output_type": "execute_result"
    }
   ],
   "source": [
    "function visualizer(parameters)\n",
    "    # Visualizes the trajectories obtained using the L1 cost optimizer using Meshcat.\n",
    "    length_scale = parameters[\"length_scale\"]\n",
    "    cubesat_dim_x = parameters[\"cubesat_dim_x\"]\n",
    "    cubesat_dim_y = parameters[\"cubesat_dim_y\"]\n",
    "    cubesat_dim_z = parameters[\"cubesat_dim_z\"]\n",
    "    pyramid_point = parameters[\"pyramid_point\"]\n",
    "    pyramid_length = parameters[\"pyramid_length\"]\n",
    "    pyramid_width = parameters[\"pyramid_width\"]\n",
    "    pyramid_rot_x = parameters[\"pyramid_rot_x\"]\n",
    "    pyramid_rot_y = parameters[\"pyramid_rot_y\"]\n",
    "    pyramid_rot_z = parameters[\"pyramid_rot_z\"]\n",
    "    sphere_radius = parameters[\"sphere_radius\"]\n",
    "    camera_translation = parameters[\"camera_translation\"]\n",
    "    camera_rotation = parameters[\"camera_rotation\"]\n",
    "    camera_zoom = parameters[\"camera_zoom\"]\n",
    "\n",
    "    # Load Data\n",
    "    T, X, Y, U, N, n, m = load_data(parameters)\n",
    "\n",
    "    # Open visualizer\n",
    "    vis = Visualizer()\n",
    "    # Open visualizer in a new tab in the browser.\n",
    "    open(vis)\n",
    "    \n",
    "    # Plot Earth in MeshCat\n",
    "    earth_image = PngImage(\"../animation/image/earth.png\")\n",
    "    earth_texture = Texture(image=earth_image)\n",
    "    earth_material = MeshLambertMaterial(map=earth_texture)\n",
    "    earth = HyperSphere(Point(0.0,0.0,0.0), 6.7310*1e6*length_scale)\n",
    "    setobject!(vis[\"earth\"], earth, earth_material)\n",
    "    settransform!(vis[\"earth\"], compose(LinearMap(AngleAxis(-0.8*pi, 0, 0, 1)),\n",
    "        LinearMap(AngleAxis(pi/2, 1, 0, 0)), ))\n",
    "\n",
    "    # Plot Target Satellite\n",
    "    target_cubesat_image = PngImage(\"../animation/image/white_solar_panel.png\")\n",
    "    target_cubesat_texture = Texture(image=target_cubesat_image)\n",
    "    target_cubesat_material = MeshLambertMaterial(map=target_cubesat_texture)\n",
    "    target_cubesat = HyperRectangle(-Vec(cubesat_dim_x, cubesat_dim_y, cubesat_dim_z)./2,\n",
    "        Vec(cubesat_dim_x, cubesat_dim_y, cubesat_dim_z))\n",
    "    setobject!(vis[\"target_cubesat\"], target_cubesat, target_cubesat_material)\n",
    "\n",
    "    # Plot Ego Satellite\n",
    "    ego_cubesat_image = PngImage(\"../animation/image/orange_solar_panel.png\")\n",
    "    ego_cubesat_texture = Texture(image=ego_cubesat_image)\n",
    "    ego_cubesat_material = MeshLambertMaterial(map=ego_cubesat_texture)\n",
    "    ego_cubesat = HyperRectangle(-Vec(-cubesat_dim_x, cubesat_dim_y, cubesat_dim_z)./2,\n",
    "        Vec(cubesat_dim_x, cubesat_dim_y, cubesat_dim_z))\n",
    "    setobject!(vis[\"ego_cubesat\"], ego_cubesat, ego_cubesat_material)\n",
    "\n",
    "    # Material\n",
    "    light_green_material = MeshPhongMaterial(color=RGBA(0, 1, 0, 3e-1))\n",
    "    green_material = MeshPhongMaterial(color=RGBA(0, 1, 0, 9e-1))\n",
    "    yellow_material = MeshPhongMaterial(color=RGBA(1, 1, 0, 7e-1))\n",
    "    red_material = MeshPhongMaterial(color=RGBA(1, 0, 0, 9e-1))\n",
    "\n",
    "    # Plot Trajectory\n",
    "    anim = MeshCat.Animation()\n",
    "    for i=1:N\n",
    "        # Compute spacecraft transformation\n",
    "        target_translation, target_rotation, ego_translation =\n",
    "            spacecraft_transformation(X[:,i], parameters)\n",
    "        # Set the poses of the two satellites as well as the camera.\n",
    "        MeshCat.atframe(anim, vis, i) do frame\n",
    "            settransform!(frame[\"target_cubesat\"], compose(target_translation, target_rotation))\n",
    "            settransform!(frame[\"ego_cubesat\"], compose(ego_translation, target_rotation))\n",
    "            setprop!(frame[\"/Cameras/default/rotated/<object>\"], \"zoom\", camera_zoom)\n",
    "            camera_transformation = compose(compose(compose(\n",
    "                target_translation,\n",
    "                target_rotation),\n",
    "                camera_translation),\n",
    "                camera_rotation)\n",
    "            settransform!(frame[\"/Cameras/default\"], camera_transformation)\n",
    "        end\n",
    "        # Plot the forces vector along the ego satellite's trajectory.\n",
    "        if i < N\n",
    "            # Build objects.\n",
    "            sphere = HyperSphere(Point(0.0,0.0,0.0), sphere_radius)\n",
    "            pyramid_x = Pyramid(pyramid_point, pyramid_length*U[1,i], pyramid_width)\n",
    "            pyramid_y = Pyramid(pyramid_point, pyramid_length*U[2,i], pyramid_width)\n",
    "            pyramid_z = Pyramid(pyramid_point, pyramid_length*U[3,i], pyramid_width)\n",
    "            # Add them to the visualizer\n",
    "            setobject!(vis[\"traj\"][\"t_sph$i\"], sphere, light_green_material)\n",
    "            setobject!(vis[\"traj\"][\"t_x$i\"], pyramid_x, yellow_material)\n",
    "            setobject!(vis[\"traj\"][\"t_y$i\"], pyramid_y, red_material)\n",
    "            setobject!(vis[\"traj\"][\"t_z$i\"], pyramid_z, green_material)\n",
    "            # Define their poses\n",
    "            settransform!(vis[\"traj\"][\"t_sph$i\"], ego_translation)\n",
    "            settransform!(vis[\"traj\"][\"t_x$i\"], compose(compose(ego_translation, target_rotation), pyramid_rot_x))\n",
    "            settransform!(vis[\"traj\"][\"t_y$i\"], compose(compose(ego_translation, target_rotation), pyramid_rot_y))\n",
    "            settransform!(vis[\"traj\"][\"t_z$i\"], compose(compose(ego_translation, target_rotation), pyramid_rot_z))\n",
    "        end\n",
    "    end\n",
    "    MeshCat.setanimation!(vis,anim)\n",
    "end"
   ]
  },
  {
   "cell_type": "markdown",
   "metadata": {},
   "source": [
    "## Run the visualization.\n",
    "To play the animation click on \"Open Controls\" in the MeshCat viewer, and then go to \"Animations\" -> \"default\" -> \"Play\"."
   ]
  },
  {
   "cell_type": "code",
   "execution_count": 41,
   "metadata": {},
   "outputs": [
    {
     "name": "stderr",
     "output_type": "stream",
     "text": [
      "┌ Info: Serving MeshCat visualizer at http://127.0.0.1:8715\n",
      "└ @ MeshCat /home/simon/.julia/packages/MeshCat/J3ExE/src/servers.jl:24\n"
     ]
    }
   ],
   "source": [
    "parameters = define_animation_parameters()\n",
    "parameters[\"filename\"] = \"constrained_nonlinear_dynamics\"\n",
    "visualizer(parameters);"
   ]
  },
  {
   "cell_type": "markdown",
   "metadata": {},
   "source": [
    "## Recording an Animation\n",
    "\n",
    "To record an animation click on \"Open Controls\" in the viewer, and then go to \"Animations\" -> \"default\" -> \"Recording\" -> \"record\". This will play the entire animation, recording every frame and then let you download the resulting frames to your computer.\n",
    "\n",
    "## Converting the Animation into a Video\n",
    "\n",
    "Currently, meshcat can only save an animation as a .tar file consisting of a list of .png images, one for each frame. To convert that into a video, you will need to install the ffmpeg program, and then you can run:\n"
   ]
  },
  {
   "cell_type": "code",
   "execution_count": 45,
   "metadata": {},
   "outputs": [],
   "source": [
    "# Saving as a video.\n",
    "MeshCat.convert_frames_to_video(\"../animation/meshcat_1565050100592.tar\", overwrite=true);"
   ]
  }
 ],
 "metadata": {
  "kernelspec": {
   "display_name": "Julia 1.1.1",
   "language": "julia",
   "name": "julia-1.1"
  },
  "language_info": {
   "file_extension": ".jl",
   "mimetype": "application/julia",
   "name": "julia",
   "version": "1.1.1"
  }
 },
 "nbformat": 4,
 "nbformat_minor": 2
}
