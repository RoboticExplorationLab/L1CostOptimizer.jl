{
 "cells": [
  {
   "cell_type": "markdown",
   "metadata": {},
   "source": [
    "# L1 Cost Optimizer: Linear Dynamics With Control Constraints.\n",
    "#### In this notebook we reproduce the results displayed in \"FAST SOLUTION OF OPTIMAL CONTROL PROBLEMS WITH L1 COST\". "
   ]
  },
  {
   "cell_type": "markdown",
   "metadata": {},
   "source": [
    "Library imports."
   ]
  },
  {
   "cell_type": "code",
   "execution_count": 1,
   "metadata": {},
   "outputs": [],
   "source": [
    "using BenchmarkTools\n",
    "using JLD\n",
    "using LinearAlgebra\n",
    "using TrajectoryOptimization\n",
    "using PartedArrays\n",
    "using PGFPlots\n",
    "using PyPlot"
   ]
  },
  {
   "cell_type": "markdown",
   "metadata": {},
   "source": [
    "Include the files from the repository."
   ]
  },
  {
   "cell_type": "code",
   "execution_count": 2,
   "metadata": {},
   "outputs": [
    {
     "ename": "ErrorException",
     "evalue": "could not open file /home/simon/research/l1_optimization/L1CostOptimizer.jl/notebook/src/cost_function.jl",
     "output_type": "error",
     "traceback": [
      "could not open file /home/simon/research/l1_optimization/L1CostOptimizer.jl/notebook/src/cost_function.jl",
      "",
      "Stacktrace:",
      " [1] include at ./boot.jl:326 [inlined]",
      " [2] include_relative(::Module, ::String) at ./loading.jl:1038",
      " [3] include(::Module, ::String) at ./sysimg.jl:29",
      " [4] include(::String) at ./client.jl:403",
      " [5] top-level scope at In[2]:1"
     ]
    }
   ],
   "source": [
    "include(\"src/cost_function.jl\")\n",
    "include(\"src/dynamics.jl\")\n",
    "include(\"src/experiment.jl\")\n",
    "include(\"src/experiment_parameters.jl\")\n",
    "include(\"src/parameter_scaling.jl\")\n",
    "include(\"src/solver.jl\")\n",
    "include(\"src/test.jl\")\n",
    "include(\"src/utils.jl\")\n",
    "include(\"src/visualization.jl\")\n",
    "include(\"src/visualization_latex.jl\");"
   ]
  },
  {
   "cell_type": "markdown",
   "metadata": {},
   "source": [
    "### Running the rendezvous example with linear dynamics and control constraints."
   ]
  },
  {
   "cell_type": "markdown",
   "metadata": {},
   "source": [
    "Parameter definition."
   ]
  },
  {
   "cell_type": "code",
   "execution_count": 3,
   "metadata": {},
   "outputs": [
    {
     "ename": "UndefVarError",
     "evalue": "UndefVarError: define_lin_constrained_parameters not defined",
     "output_type": "error",
     "traceback": [
      "UndefVarError: define_lin_constrained_parameters not defined",
      "",
      "Stacktrace:",
      " [1] top-level scope at In[3]:1"
     ]
    }
   ],
   "source": [
    "# Set the parameters for the experiment\n",
    "lin_cons_parameters = define_lin_constrained_parameters()\n",
    "# Choose the parameter ρ\n",
    "lin_cons_parameters[\"ρ\"] = 1e-1\n",
    "# Choose the stopping criterion threshold\n",
    "lin_cons_parameters[\"stopping_criterion\"] = 4e-4;"
   ]
  },
  {
   "cell_type": "markdown",
   "metadata": {},
   "source": [
    "Drifting phase."
   ]
  },
  {
   "cell_type": "code",
   "execution_count": 4,
   "metadata": {},
   "outputs": [
    {
     "ename": "UndefVarError",
     "evalue": "UndefVarError: initial_drift not defined",
     "output_type": "error",
     "traceback": [
      "UndefVarError: initial_drift not defined",
      "",
      "Stacktrace:",
      " [1] top-level scope at In[4]:1"
     ]
    }
   ],
   "source": [
    "# Propagates the nonlinear dynamics forward\n",
    "# to let the 2 satellites drift apart from each other.\n",
    "x0_drifted = initial_drift(lin_cons_parameters)\n",
    "x0_cw = full_to_reduced_state(x0_drifted) # convert R^12 (nonlinear dynamics) state to R^6 (linear dynamics)\n",
    "lin_cons_parameters[\"x0\"] = x0_cw;"
   ]
  },
  {
   "cell_type": "markdown",
   "metadata": {},
   "source": [
    "Rescaling the parameters for numerical conditioning."
   ]
  },
  {
   "cell_type": "code",
   "execution_count": 5,
   "metadata": {},
   "outputs": [
    {
     "ename": "UndefVarError",
     "evalue": "UndefVarError: scale_lin_parameters not defined",
     "output_type": "error",
     "traceback": [
      "UndefVarError: scale_lin_parameters not defined",
      "",
      "Stacktrace:",
      " [1] top-level scope at In[5]:1"
     ]
    }
   ],
   "source": [
    "# Scale the parameters of the linear model\n",
    "lin_cons_parameters = scale_lin_parameters(lin_cons_parameters);"
   ]
  },
  {
   "cell_type": "markdown",
   "metadata": {},
   "source": [
    "Solve the L1-norm cost trajectory optimization problem."
   ]
  },
  {
   "cell_type": "code",
   "execution_count": 6,
   "metadata": {},
   "outputs": [
    {
     "ename": "UndefVarError",
     "evalue": "UndefVarError: lin_cons_parameters not defined",
     "output_type": "error",
     "traceback": [
      "UndefVarError: lin_cons_parameters not defined",
      "",
      "Stacktrace:",
      " [1] top-level scope at In[6]:1"
     ]
    }
   ],
   "source": [
    "# Compute the control sequence\n",
    "lin_cons_parameters[\"verbose\"] = false\n",
    "X, U, Y, ν, cost_history, optimality_criterion, iter = l1_solver(lin_cons_parameters);"
   ]
  },
  {
   "cell_type": "markdown",
   "metadata": {},
   "source": [
    "Display the results of the solve."
   ]
  },
  {
   "cell_type": "code",
   "execution_count": 7,
   "metadata": {},
   "outputs": [
    {
     "ename": "UndefVarError",
     "evalue": "UndefVarError: lin_cons_parameters not defined",
     "output_type": "error",
     "traceback": [
      "UndefVarError: lin_cons_parameters not defined",
      "",
      "Stacktrace:",
      " [1] top-level scope at In[7]:2"
     ]
    }
   ],
   "source": [
    "filename = \"constrained_linear_dynamics\"\n",
    "lin_cons_parameters[\"show_result\"] = true\n",
    "figure = save_results_image(X, U, Y, ν, cost_history, optimality_criterion, filename, iter, lin_cons_parameters);"
   ]
  },
  {
   "cell_type": "code",
   "execution_count": null,
   "metadata": {},
   "outputs": [],
   "source": []
  },
  {
   "cell_type": "code",
   "execution_count": null,
   "metadata": {},
   "outputs": [],
   "source": []
  },
  {
   "cell_type": "code",
   "execution_count": null,
   "metadata": {},
   "outputs": [],
   "source": []
  },
  {
   "cell_type": "code",
   "execution_count": null,
   "metadata": {},
   "outputs": [],
   "source": []
  }
 ],
 "metadata": {
  "kernelspec": {
   "display_name": "Julia 1.1.1",
   "language": "julia",
   "name": "julia-1.1"
  },
  "language_info": {
   "file_extension": ".jl",
   "mimetype": "application/julia",
   "name": "julia",
   "version": "1.1.1"
  }
 },
 "nbformat": 4,
 "nbformat_minor": 2
}
